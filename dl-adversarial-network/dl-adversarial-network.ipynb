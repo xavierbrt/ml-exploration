{
 "cells": [
  {
   "cell_type": "markdown",
   "metadata": {},
   "source": [
    "# DL - Adversarial network"
   ]
  },
  {
   "cell_type": "code",
   "execution_count": 77,
   "metadata": {},
   "outputs": [],
   "source": [
    "import tensorflow as tf\n",
    "import Layers\n",
    "import matplotlib.pyplot as plt\n",
    "import numpy as np\n",
    "import cv2"
   ]
  },
  {
   "cell_type": "markdown",
   "metadata": {},
   "source": [
    "## Load the image"
   ]
  },
  {
   "cell_type": "markdown",
   "metadata": {},
   "source": [
    "We load the image and adapt it (color and size) to the model:"
   ]
  },
  {
   "cell_type": "code",
   "execution_count": 106,
   "metadata": {},
   "outputs": [
    {
     "data": {
      "image/png": "[encoded data removed]",
      "text/plain": [
       "<Figure size 432x288 with 1 Axes>"
      ]
     },
     "metadata": {
      "needs_background": "light"
     },
     "output_type": "display_data"
    }
   ],
   "source": [
    "# Load  the image and adapt it to the model\n",
    "im = cv2.imread(\"./images/input.png\")\n",
    "im = cv2.cvtColor(im, cv2.COLOR_BGR2GRAY)\n",
    "im = cv2.resize(im, (48, 48))\n",
    "im = (im - 128.0) / 256.0\n",
    "plt.imshow(im, cmap='gray')\n",
    "plt.show()"
   ]
  },
  {
   "cell_type": "markdown",
   "metadata": {},
   "source": [
    "## Load the CNN model"
   ]
  },
  {
   "cell_type": "markdown",
   "metadata": {},
   "source": [
    "The model we use is a Convolutional Neural Network, trained to find the gender of a person on an image. It has been trained previously and its checkpoints had been saved. The checkpoints contains the value of all parameters (tf.Variable) used by a model (see the [documentation](https://www.tensorflow.org/guide/checkpoint)). It is useful when we have the structure of the network.<br />\n",
    "The model has an accuracy of 88.64% on a test set. It will we be enough for our use case."
   ]
  },
  {
   "cell_type": "code",
   "execution_count": 79,
   "metadata": {},
   "outputs": [
    {
     "data": {
      "text/plain": [
       "<tensorflow.python.training.tracking.util.CheckpointLoadStatus at 0x7f49a06ea780>"
      ]
     },
     "execution_count": 79,
     "metadata": {},
     "output_type": "execute_result"
    }
   ],
   "source": [
    "class ConvNeuralNet(tf.Module):\n",
    "    def __init__(self):\n",
    "        self.unflat = Layers.unflat(48, 48, 1)\n",
    "        self.cv1 = Layers.conv(output_dim=3, filterSize=5, stride=1)\n",
    "        self.mp = Layers.maxpool(2)\n",
    "        self.cv2 = Layers.conv(output_dim=6, filterSize=5, stride=1)\n",
    "        self.cv3 = Layers.conv(output_dim=12, filterSize=5, stride=1)\n",
    "        self.flat = Layers.flat()\n",
    "        self.fc = Layers.fc(2)\n",
    "\n",
    "    def __call__(self, x):\n",
    "        x = self.unflat(x)\n",
    "        x = self.cv1(x)\n",
    "        x = self.mp(x)\n",
    "        x = self.cv2(x)\n",
    "        x = self.mp(x)\n",
    "        x = self.cv3(x)\n",
    "        x = self.mp(x)\n",
    "        x = self.flat(x)\n",
    "        x = self.fc(x)\n",
    "        return x\n",
    "\n",
    "optimizer = tf.compat.v1.train.GradientDescentOptimizer(0.1)\n",
    "simple_cnn = ConvNeuralNet()\n",
    "\n",
    "# Load the saved checkpoint (containing the values of the paramaters of the trained model)\n",
    "ckpt = tf.train.Checkpoint(step=tf.Variable(1), optimizer=optimizer, net=simple_cnn)\n",
    "ckpt.restore('./saved_model-3-1')"
   ]
  },
  {
   "cell_type": "markdown",
   "metadata": {},
   "source": [
    "## Create and train a noise filter"
   ]
  },
  {
   "cell_type": "markdown",
   "metadata": {},
   "source": [
    "We create a new variable, DX, which will be the noise filter. It has the shape of an image, (48,48), and is initialized with null values."
   ]
  },
  {
   "cell_type": "code",
   "execution_count": 80,
   "metadata": {},
   "outputs": [],
   "source": [
    "# Create the constant X, representing the image\n",
    "X = tf.constant(im, dtype=np.float32)\n",
    "\n",
    "# Create the variable DX, the filter\n",
    "DXinit = tf.constant(0.0, shape=[48, 48])\n",
    "DX = tf.Variable(DXinit)"
   ]
  },
  {
   "cell_type": "markdown",
   "metadata": {},
   "source": [
    "We train the model over 1000 iterations. We only train the new variable, DX, in order to find the more adapted filter.<br />\n",
    "To only train the DX variable, we indicate DX in the calculation of the gradient: grads = tape.gradient(loss, [DX])<br />\n",
    "We previously set up the optimizer with the class GradientDescentOptimizer, in order to optimize the gradient descent.<br />\n",
    "\n",
    "The loss is calculated, at each iteration, on the image computed with the filter (X + DX).<br />"
   ]
  },
  {
   "cell_type": "code",
   "execution_count": 88,
   "metadata": {},
   "outputs": [
    {
     "name": "stdout",
     "output_type": "stream",
     "text": [
      "iter=      0 - loss= 0.031232\n",
      "iter=    100 - loss= 0.001360\n",
      "iter=    200 - loss= 0.000730\n",
      "iter=    300 - loss= 0.000517\n",
      "iter=    400 - loss= 0.000403\n",
      "iter=    500 - loss= 0.000330\n",
      "iter=    600 - loss= 0.000278\n",
      "iter=    700 - loss= 0.000240\n",
      "iter=    800 - loss= 0.000212\n",
      "iter=    900 - loss= 0.000190\n",
      "iter=    999 - loss= 0.000173\n"
     ]
    }
   ],
   "source": [
    "def train_filter(model, optimizer, X, label, DX):\n",
    "    with tf.GradientTape() as tape:\n",
    "        y = model(X + DX)\n",
    "        y = tf.nn.log_softmax(y)\n",
    "        diff = label * y\n",
    "        loss = -tf.reduce_sum(diff)\n",
    "        grads = tape.gradient(loss, [DX])\n",
    "        optimizer.apply_gradients(zip(grads, [DX]))\n",
    "    return loss\n",
    "\n",
    "fake_label = [1.0, 0.0]\n",
    "for iter in range(1000):\n",
    "    loss = train_filter(simple_cnn, optimizer, X, fake_label, DX)\n",
    "\n",
    "    if iter % 100 == 0:\n",
    "        print(\"iter= %6d - loss= %f\" % (iter, loss))\n",
    "print(\"iter= %6d - loss= %f\" % (999, loss))"
   ]
  },
  {
   "cell_type": "markdown",
   "metadata": {},
   "source": [
    "## Display the resulting image"
   ]
  },
  {
   "cell_type": "markdown",
   "metadata": {},
   "source": [
    "We display the generated filter, DX:"
   ]
  },
  {
   "cell_type": "code",
   "execution_count": 82,
   "metadata": {},
   "outputs": [
    {
     "data": {
      "image/png": "[encoded data removed]",
      "text/plain": [
       "<Figure size 216x216 with 1 Axes>"
      ]
     },
     "metadata": {
      "needs_background": "light"
     },
     "output_type": "display_data"
    }
   ],
   "source": [
    "DX_render = DX.numpy()\n",
    "plt.figure(figsize=(3,3))\n",
    "plt.imshow(DX_render, cmap='gray')\n",
    "plt.title(\"Noise filter generated\")\n",
    "plt.show()"
   ]
  },
  {
   "cell_type": "markdown",
   "metadata": {},
   "source": [
    "We observe that the most impacted points of the image are at the eyes, the nose and the chin.<br />\n",
    "We display the resulting image, composed of the original image + the filter."
   ]
  },
  {
   "cell_type": "code",
   "execution_count": 83,
   "metadata": {},
   "outputs": [
    {
     "data": {
      "image/png": "[encoded data removed]",
      "text/plain": [
       "<Figure size 504x216 with 2 Axes>"
      ]
     },
     "metadata": {
      "needs_background": "light"
     },
     "output_type": "display_data"
    }
   ],
   "source": [
    "plt.figure(figsize=(7,3))\n",
    "plt.subplot(121)\n",
    "plt.imshow(im, cmap='gray')\n",
    "plt.title(\"Original\")\n",
    "\n",
    "Xmod = X + DX\n",
    "Xmod_render = Xmod.numpy() * 256 + 128\n",
    "plt.subplot(122)\n",
    "plt.imshow(Xmod_render, cmap='gray')\n",
    "plt.title(\"Adversarial\")\n",
    "plt.show()"
   ]
  },
  {
   "cell_type": "markdown",
   "metadata": {},
   "source": [
    "The image still looks like a woman, but the rendering gives the impression of an image with a low quality. The neural network was looking for the lowest loss, in order to compute the filter that will mislead the most the prediction. It's not necessary to have such a lowest loss. In order to increase it, we will penalize the model with a L2 regularization. "
   ]
  },
  {
   "cell_type": "markdown",
   "metadata": {},
   "source": [
    "## Lower the noise with an L2 constraint"
   ]
  },
  {
   "cell_type": "markdown",
   "metadata": {},
   "source": [
    "We add a L2 regularization when computing the loss. The regularization factor, beta, is set as 0.5 in order to have a strong regularization. It was chosen after several tests."
   ]
  },
  {
   "cell_type": "code",
   "execution_count": 87,
   "metadata": {},
   "outputs": [
    {
     "name": "stdout",
     "output_type": "stream",
     "text": [
      "iter=      0 - loss= 0.120747\n",
      "iter=    100 - loss= 0.120795\n",
      "iter=    200 - loss= 0.120810\n",
      "iter=    300 - loss= 0.120768\n",
      "iter=    400 - loss= 0.120750\n",
      "iter=    500 - loss= 0.120808\n",
      "iter=    600 - loss= 0.120797\n",
      "iter=    700 - loss= 0.120804\n",
      "iter=    800 - loss= 0.120783\n",
      "iter=    900 - loss= 0.120747\n",
      "iter=    999 - loss= 0.120790\n"
     ]
    }
   ],
   "source": [
    "def train_filter_l2(model, optimizer, X, label, DX, beta):\n",
    "    with tf.GradientTape() as tape:\n",
    "        y = model(X + DX)\n",
    "        y = tf.nn.log_softmax(y)\n",
    "        diff = label * y\n",
    "        loss = -tf.reduce_sum(diff) + beta*tf.nn.l2_loss(DX)\n",
    "        grads = tape.gradient(loss, [DX])\n",
    "        optimizer.apply_gradients(zip(grads, [DX]))\n",
    "    return loss\n",
    "\n",
    "for iter in range(1000):\n",
    "    loss = train_filter_l2(simple_cnn, optimizer, X, fake_label, DX, 0.5)\n",
    "    if iter % 100 == 0:\n",
    "        print(\"iter= %6d - loss= %f\" % (iter, loss))\n",
    "print(\"iter= %6d - loss= %f\" % (999, loss))"
   ]
  },
  {
   "cell_type": "markdown",
   "metadata": {},
   "source": [
    "The obtained loss is really higher than previously (nearly 700 times higher), but it is still low enough in order to mislead the neural network during the prediction."
   ]
  },
  {
   "cell_type": "code",
   "execution_count": 43,
   "metadata": {},
   "outputs": [
    {
     "data": {
      "image/png": "[encoded data removed]",
      "text/plain": [
       "<Figure size 720x216 with 3 Axes>"
      ]
     },
     "metadata": {
      "needs_background": "light"
     },
     "output_type": "display_data"
    }
   ],
   "source": [
    "plt.figure(figsize=(10,3))\n",
    "plt.subplot(131)\n",
    "plt.imshow(im, cmap='gray')\n",
    "plt.title(\"Original\")\n",
    "\n",
    "plt.subplot(132)\n",
    "plt.imshow(Xmod_render, cmap='gray')\n",
    "plt.title(\"Adversarial\")\n",
    "\n",
    "XmodL2 = X + DX\n",
    "XmodL2_render = XmodL2.numpy() * 256 + 128\n",
    "plt.subplot(133)\n",
    "plt.imshow(XmodL2_render, cmap='gray')\n",
    "plt.title(\"Adversarial with L2\")\n",
    "plt.show()"
   ]
  },
  {
   "cell_type": "markdown",
   "metadata": {},
   "source": [
    "The face looks less damaged and more natural."
   ]
  },
  {
   "cell_type": "markdown",
   "metadata": {},
   "source": [
    "## Verify that the model is misleaded"
   ]
  },
  {
   "cell_type": "markdown",
   "metadata": {},
   "source": [
    "We will predict the gender of the transformed image, to see if it misleads the neural network.<br />\n",
    "To do so, we compute for each image the probability of belonging to each class."
   ]
  },
  {
   "cell_type": "code",
   "execution_count": 102,
   "metadata": {},
   "outputs": [
    {
     "name": "stdout",
     "output_type": "stream",
     "text": [
      "Image Original: Woman (scores: man: -0.786289, woman: 1.691635)\n",
      "Image Adversarial: Man (scores: man: 4.287148, woman: -4.397744)\n",
      "Image Adversarial with L2: Man (scores: man: 1.876860, woman: -1.570869)\n"
     ]
    }
   ],
   "source": [
    "images = np.array([im, Xmod, XmodL2], dtype=np.float32)\n",
    "y_pred = simple_cnn(images)\n",
    "y_pred = y_pred.numpy()\n",
    "result = tf.argmax(y_pred, 1).numpy()\n",
    "result_labeled = np.where(result == 0, \"Man\", \"Woman\")\n",
    "image_names = [\"Original\", \"Adversarial\", \"Adversarial with L2\"]\n",
    "\n",
    "for i in range(0,3):\n",
    "    print(\"Image {:s}: {:s} (scores: man: {:3f}, woman: {:3f})\".format(image_names[i], result_labeled[i], y_pred[i,0], y_pred[i,1]))"
   ]
  },
  {
   "cell_type": "markdown",
   "metadata": {},
   "source": [
    "The transformed images have misleaded the model and be labeled as men. The image with the L2 constraint has a lowest score than without, but still correct."
   ]
  },
  {
   "cell_type": "markdown",
   "metadata": {},
   "source": [
    "# Conclusion"
   ]
  },
  {
   "cell_type": "markdown",
   "metadata": {},
   "source": [
    "This lab shows that it is possible to mislead a neural network trained to do classification, by modifying the inputs with a filter.\n",
    "An interesting part of the process is that the filter is computed by the same neural network, modified with a new variable added, representing the filter.\n",
    "The result is that we can obtain an image nearly similar for the human eye, but different for the artificial intelligence system.\n",
    "\n",
    "Then, we saw that it is important to choose a compromise between a very modified image, which strongly misleads the neural network, or a slightly modified image, more discreet for the human eye."
   ]
  },
  {
   "cell_type": "code",
   "execution_count": null,
   "metadata": {},
   "outputs": [],
   "source": []
  }
 ],
 "metadata": {
  "kernelspec": {
   "display_name": "Python 3",
   "language": "python",
   "name": "python3"
  },
  "language_info": {
   "codemirror_mode": {
    "name": "ipython",
    "version": 3
   },
   "file_extension": ".py",
   "mimetype": "text/x-python",
   "name": "python",
   "nbconvert_exporter": "python",
   "pygments_lexer": "ipython3",
   "version": "3.6.9"
  }
 },
 "nbformat": 4,
 "nbformat_minor": 2
}
